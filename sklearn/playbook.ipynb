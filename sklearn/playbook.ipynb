{
 "cells": [
  {
   "cell_type": "markdown",
   "metadata": {},
   "source": [
    "## sklearn playbook"
   ]
  },
  {
   "cell_type": "code",
   "execution_count": null,
   "metadata": {},
   "outputs": [],
   "source": [
    "import os\n",
    "os.environ[\"MLFLOW_TRACKING_URI\"] = \"http://localhost:5000\""
   ]
  },
  {
   "cell_type": "markdown",
   "metadata": {},
   "source": [
    "### Train"
   ]
  },
  {
   "cell_type": "code",
   "execution_count": null,
   "metadata": {
    "scrolled": true
   },
   "outputs": [],
   "source": [
    "! python main.py --experiment_name WineQualityExperiment \\\n",
    "  --data_path data/wine-quality-white.csv \\\n",
    "  --alpha 0.1 --l1_ratio 0.1"
   ]
  },
  {
   "cell_type": "code",
   "execution_count": null,
   "metadata": {},
   "outputs": [],
   "source": [
    "! conda activate base"
   ]
  },
  {
   "cell_type": "code",
   "execution_count": null,
   "metadata": {},
   "outputs": [],
   "source": [
    "! conda activate base\n",
    "! mlflow run . -P alpha=0.01 -P l1_ratio=0.75 -P run_origin=LocalRun \\\n",
    "  -P data_path=data/wine-quality-white.csv \\\n",
    "  --experiment-id=2"
   ]
  },
  {
   "cell_type": "code",
   "execution_count": null,
   "metadata": {},
   "outputs": [],
   "source": [
    "! mlflow run https://github.com/amesar/mlflow-fun.git#examples/scikit-learn/wine-quality \\\n",
    "  -P alpha=0.01 -P l1_ratio=0.75 -P run_origin=GitRun \\\n",
    "  -P data_path=data/wine-quality-white.csv \\\n",
    "  --experiment-id=2"
   ]
  },
  {
   "cell_type": "markdown",
   "metadata": {},
   "source": [
    "### Predict"
   ]
  },
  {
   "cell_type": "code",
   "execution_count": null,
   "metadata": {},
   "outputs": [],
   "source": [
    "! python pyfunc_predict.py 4fc01818631840d9ae4d8ad9f86299fc data/wine-quality-white.csv"
   ]
  },
  {
   "cell_type": "code",
   "execution_count": null,
   "metadata": {},
   "outputs": [],
   "source": [
    "! python scikit_predict.py 4fc01818631840d9ae4d8ad9f86299fc data/wine-quality-white.csv"
   ]
  },
  {
   "cell_type": "code",
   "execution_count": null,
   "metadata": {},
   "outputs": [],
   "source": [
    "! spark-submit --master local[2] spark_udf_predict.py \\\n",
    "  4fc01818631840d9ae4d8ad9f86299fc data/wine-quality-white.csv"
   ]
  },
  {
   "cell_type": "code",
   "execution_count": null,
   "metadata": {},
   "outputs": [],
   "source": []
  }
 ],
 "metadata": {
  "kernelspec": {
   "display_name": "Python 3",
   "language": "python",
   "name": "python3"
  },
  "language_info": {
   "codemirror_mode": {
    "name": "ipython",
    "version": 3
   },
   "file_extension": ".py",
   "mimetype": "text/x-python",
   "name": "python",
   "nbconvert_exporter": "python",
   "pygments_lexer": "ipython3",
   "version": "3.7.0"
  }
 },
 "nbformat": 4,
 "nbformat_minor": 2
}
