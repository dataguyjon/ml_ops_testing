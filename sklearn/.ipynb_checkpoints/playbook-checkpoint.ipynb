{
 "cells": [
  {
   "cell_type": "markdown",
   "metadata": {},
   "source": [
    "## sklearn playbook"
   ]
  },
  {
   "cell_type": "code",
   "execution_count": 4,
   "metadata": {},
   "outputs": [],
   "source": [
    "import os\n",
    "os.environ[\"MLFLOW_TRACKING_URI\"] = \"http://localhost:5000\""
   ]
  },
  {
   "cell_type": "markdown",
   "metadata": {},
   "source": [
    "### Train"
   ]
  },
  {
   "cell_type": "code",
   "execution_count": 5,
   "metadata": {
    "scrolled": true
   },
   "outputs": [
    {
     "name": "stdout",
     "output_type": "stream",
     "text": [
      "MLflow Version: 0.9.1\n",
      "MLflow Tracking URI: http://localhost:5000\n",
      "experiment_name: WineQualityExperiment\n",
      "run_origin: none\n",
      "data_path: data/wine-quality-white.csv\n",
      "experiment_id: 7\n",
      "run_id: 792037e4fdde40efb1c43eeef76a5f9b\n",
      "  experiment_id: 7\n",
      "  Parameters:\n",
      "    alpha: 0.5\n",
      "    l1_ratio: 0.5\n",
      "  Metrics:\n",
      "    RMSE: 0.82224284975954\n",
      "    MAE: 0.6278761410160693\n",
      "    R2: 0.12678721972772677\n"
     ]
    }
   ],
   "source": [
    "! python main.py --experiment_name WineQualityExperiment \\\n",
    "  --data_path data/wine-quality-white.csv \\\n",
    "  --alpha 0.5 --l1_ratio 0.5"
   ]
  },
  {
   "cell_type": "code",
   "execution_count": null,
   "metadata": {},
   "outputs": [
    {
     "name": "stdout",
     "output_type": "stream",
     "text": [
      "2019/04/24 21:23:52 INFO mlflow.projects: === Creating conda environment mlflow-169b50d7002caef08e847b2615a41296bd46b052 ===\n",
      "Collecting package metadata: done\n",
      "Solving environment: done\n",
      "\n",
      "\n",
      "==> WARNING: A newer version of conda exists. <==\n",
      "  current version: 4.6.2\n",
      "  latest version: 4.6.14\n",
      "\n",
      "Please update conda by running\n",
      "\n",
      "    $ conda update -n base -c defaults conda\n",
      "\n",
      "\n",
      "\n",
      "Downloading and Extracting Packages\n",
      "pip-19.1             | 1.8 MB    | ##################################### | 100% \n",
      "Preparing transaction: done\n",
      "Verifying transaction: done\n",
      "Executing transaction: done\n",
      "Collecting mlflow==0.9.1 (from -r /Users/ander/git/andre/mlflow-spark-summit-2019/sklearn/condaenv.k9fcah73.requirements.txt (line 1))\n",
      "  Using cached https://files.pythonhosted.org/packages/4f/8a/3713ce558aba91acf8495bf9e82961030858eb5fe3041c5c51186e89fc85/mlflow-0.9.1-py3-none-any.whl\n",
      "Collecting scikit-learn==0.19.1 (from -r /Users/ander/git/andre/mlflow-spark-summit-2019/sklearn/condaenv.k9fcah73.requirements.txt (line 2))\n",
      "  Using cached https://files.pythonhosted.org/packages/f0/5e/1e1576587c5a9e8de6771806a4cccea8decd268c988453cf35ccbf892929/scikit_learn-0.19.1-cp36-cp36m-macosx_10_6_intel.macosx_10_9_intel.macosx_10_9_x86_64.macosx_10_10_intel.macosx_10_10_x86_64.whl\n",
      "Collecting numpy==1.14.5 (from -r /Users/ander/git/andre/mlflow-spark-summit-2019/sklearn/condaenv.k9fcah73.requirements.txt (line 3))\n",
      "  Using cached https://files.pythonhosted.org/packages/f6/cd/b2c50b5190b66c711c23ef23c41d450297eb5a54d2033f8dcb3b8b13ac85/numpy-1.14.5-cp36-cp36m-macosx_10_6_intel.macosx_10_9_intel.macosx_10_9_x86_64.macosx_10_10_intel.macosx_10_10_x86_64.whl\n",
      "Collecting scipy==1.1.0 (from -r /Users/ander/git/andre/mlflow-spark-summit-2019/sklearn/condaenv.k9fcah73.requirements.txt (line 4))\n",
      "  Using cached https://files.pythonhosted.org/packages/a0/b6/70bf61c1badb5fea82d4c558e05e76c2dee5e77bb072fe465d7c7a87287d/scipy-1.1.0-cp36-cp36m-macosx_10_6_intel.macosx_10_9_intel.macosx_10_9_x86_64.macosx_10_10_intel.macosx_10_10_x86_64.whl\n",
      "Collecting matplotlib==2.2.2 (from -r /Users/ander/git/andre/mlflow-spark-summit-2019/sklearn/condaenv.k9fcah73.requirements.txt (line 5))\n",
      "  Using cached https://files.pythonhosted.org/packages/8a/d5/5337662b714c65100f3545ed3909e9478614d1ebf1f692a52981f3f5167b/matplotlib-2.2.2-cp36-cp36m-macosx_10_6_intel.macosx_10_9_intel.macosx_10_9_x86_64.macosx_10_10_intel.macosx_10_10_x86_64.whl\n",
      "Collecting pandas (from mlflow==0.9.1->-r /Users/ander/git/andre/mlflow-spark-summit-2019/sklearn/condaenv.k9fcah73.requirements.txt (line 1))\n",
      "  Using cached https://files.pythonhosted.org/packages/2a/67/0a59cb257c72bb837575ca0ddf5f0fe2a482e98209b7a1bed8cde68ddb46/pandas-0.24.2-cp36-cp36m-macosx_10_6_intel.macosx_10_9_intel.macosx_10_9_x86_64.macosx_10_10_intel.macosx_10_10_x86_64.whl\n",
      "Collecting requests>=2.17.3 (from mlflow==0.9.1->-r /Users/ander/git/andre/mlflow-spark-summit-2019/sklearn/condaenv.k9fcah73.requirements.txt (line 1))\n",
      "  Using cached https://files.pythonhosted.org/packages/7d/e3/20f3d364d6c8e5d2353c72a67778eb189176f08e873c9900e10c0287b84b/requests-2.21.0-py2.py3-none-any.whl\n",
      "Collecting gunicorn (from mlflow==0.9.1->-r /Users/ander/git/andre/mlflow-spark-summit-2019/sklearn/condaenv.k9fcah73.requirements.txt (line 1))\n",
      "  Using cached https://files.pythonhosted.org/packages/8c/da/b8dd8deb741bff556db53902d4706774c8e1e67265f69528c14c003644e6/gunicorn-19.9.0-py2.py3-none-any.whl\n",
      "Collecting gitpython>=2.1.0 (from mlflow==0.9.1->-r /Users/ander/git/andre/mlflow-spark-summit-2019/sklearn/condaenv.k9fcah73.requirements.txt (line 1))\n",
      "  Using cached https://files.pythonhosted.org/packages/fe/e5/fafe827507644c32d6dc553a1c435cdf882e0c28918a5bab29f7fbebfb70/GitPython-2.1.11-py2.py3-none-any.whl\n",
      "Collecting click>=7.0 (from mlflow==0.9.1->-r /Users/ander/git/andre/mlflow-spark-summit-2019/sklearn/condaenv.k9fcah73.requirements.txt (line 1))\n",
      "  Using cached https://files.pythonhosted.org/packages/fa/37/45185cb5abbc30d7257104c434fe0b07e5a195a6847506c074527aa599ec/Click-7.0-py2.py3-none-any.whl\n",
      "Collecting python-dateutil (from mlflow==0.9.1->-r /Users/ander/git/andre/mlflow-spark-summit-2019/sklearn/condaenv.k9fcah73.requirements.txt (line 1))\n",
      "  Using cached https://files.pythonhosted.org/packages/41/17/c62faccbfbd163c7f57f3844689e3a78bae1f403648a6afb1d0866d87fbb/python_dateutil-2.8.0-py2.py3-none-any.whl\n",
      "Collecting Flask (from mlflow==0.9.1->-r /Users/ander/git/andre/mlflow-spark-summit-2019/sklearn/condaenv.k9fcah73.requirements.txt (line 1))\n",
      "  Using cached https://files.pythonhosted.org/packages/7f/e7/08578774ed4536d3242b14dacb4696386634607af824ea997202cd0edb4b/Flask-1.0.2-py2.py3-none-any.whl\n",
      "Collecting simplejson (from mlflow==0.9.1->-r /Users/ander/git/andre/mlflow-spark-summit-2019/sklearn/condaenv.k9fcah73.requirements.txt (line 1))\n",
      "Collecting querystring-parser (from mlflow==0.9.1->-r /Users/ander/git/andre/mlflow-spark-summit-2019/sklearn/condaenv.k9fcah73.requirements.txt (line 1))\n",
      "Collecting databricks-cli>=0.8.0 (from mlflow==0.9.1->-r /Users/ander/git/andre/mlflow-spark-summit-2019/sklearn/condaenv.k9fcah73.requirements.txt (line 1))\n",
      "Collecting boto3>=1.7.12 (from mlflow==0.9.1->-r /Users/ander/git/andre/mlflow-spark-summit-2019/sklearn/condaenv.k9fcah73.requirements.txt (line 1))\n",
      "\u001b[?25l  Downloading https://files.pythonhosted.org/packages/3f/1b/4adde85d1cbbe8a8f2fef47276daf496328fc8d7c40d7a8d6a67b0eba45b/boto3-1.9.135-py2.py3-none-any.whl (128kB)\n",
      "\u001b[K     |████████████████████████████████| 133kB 3.4MB/s eta 0:00:01\n",
      "\u001b[?25hCollecting sqlparse (from mlflow==0.9.1->-r /Users/ander/git/andre/mlflow-spark-summit-2019/sklearn/condaenv.k9fcah73.requirements.txt (line 1))\n",
      "  Using cached https://files.pythonhosted.org/packages/ef/53/900f7d2a54557c6a37886585a91336520e5539e3ae2423ff1102daf4f3a7/sqlparse-0.3.0-py2.py3-none-any.whl\n",
      "Collecting entrypoints (from mlflow==0.9.1->-r /Users/ander/git/andre/mlflow-spark-summit-2019/sklearn/condaenv.k9fcah73.requirements.txt (line 1))\n",
      "  Using cached https://files.pythonhosted.org/packages/ac/c6/44694103f8c221443ee6b0041f69e2740d89a25641e62fb4f2ee568f2f9c/entrypoints-0.3-py2.py3-none-any.whl\n",
      "Collecting docker>=3.6.0 (from mlflow==0.9.1->-r /Users/ander/git/andre/mlflow-spark-summit-2019/sklearn/condaenv.k9fcah73.requirements.txt (line 1))\n",
      "  Using cached https://files.pythonhosted.org/packages/48/68/c3afca1a5aa8d2997ec3b8ee822a4d752cf85907b321f07ea86888545152/docker-3.7.2-py2.py3-none-any.whl\n",
      "Collecting cloudpickle (from mlflow==0.9.1->-r /Users/ander/git/andre/mlflow-spark-summit-2019/sklearn/condaenv.k9fcah73.requirements.txt (line 1))\n",
      "  Using cached https://files.pythonhosted.org/packages/6e/bc/67f13115adcce4efc5e4d7f8220fb9a50aaa2b5c7ed460b26cbb76aa76ad/cloudpickle-0.8.1-py2.py3-none-any.whl\n",
      "Collecting pyyaml (from mlflow==0.9.1->-r /Users/ander/git/andre/mlflow-spark-summit-2019/sklearn/condaenv.k9fcah73.requirements.txt (line 1))\n",
      "Collecting six>=1.10.0 (from mlflow==0.9.1->-r /Users/ander/git/andre/mlflow-spark-summit-2019/sklearn/condaenv.k9fcah73.requirements.txt (line 1))\n",
      "  Using cached https://files.pythonhosted.org/packages/73/fb/00a976f728d0d1fecfe898238ce23f502a721c0ac0ecfedb80e0d88c64e9/six-1.12.0-py2.py3-none-any.whl\n",
      "Collecting protobuf>=3.6.0 (from mlflow==0.9.1->-r /Users/ander/git/andre/mlflow-spark-summit-2019/sklearn/condaenv.k9fcah73.requirements.txt (line 1))\n",
      "  Using cached https://files.pythonhosted.org/packages/46/1e/c481d59760cded074d89ff51c99381708111c550ff698934cc296d27df2c/protobuf-3.7.1-cp36-cp36m-macosx_10_9_intel.macosx_10_9_x86_64.macosx_10_10_intel.macosx_10_10_x86_64.whl\n",
      "Collecting mleap>=0.8.1 (from mlflow==0.9.1->-r /Users/ander/git/andre/mlflow-spark-summit-2019/sklearn/condaenv.k9fcah73.requirements.txt (line 1))\n",
      "Collecting cycler>=0.10 (from matplotlib==2.2.2->-r /Users/ander/git/andre/mlflow-spark-summit-2019/sklearn/condaenv.k9fcah73.requirements.txt (line 5))\n",
      "  Using cached https://files.pythonhosted.org/packages/f7/d2/e07d3ebb2bd7af696440ce7e754c59dd546ffe1bbe732c8ab68b9c834e61/cycler-0.10.0-py2.py3-none-any.whl\n",
      "Collecting pyparsing!=2.0.4,!=2.1.2,!=2.1.6,>=2.0.1 (from matplotlib==2.2.2->-r /Users/ander/git/andre/mlflow-spark-summit-2019/sklearn/condaenv.k9fcah73.requirements.txt (line 5))\n",
      "  Using cached https://files.pythonhosted.org/packages/dd/d9/3ec19e966301a6e25769976999bd7bbe552016f0d32b577dc9d63d2e0c49/pyparsing-2.4.0-py2.py3-none-any.whl\n",
      "Collecting kiwisolver>=1.0.1 (from matplotlib==2.2.2->-r /Users/ander/git/andre/mlflow-spark-summit-2019/sklearn/condaenv.k9fcah73.requirements.txt (line 5))\n"
     ]
    },
    {
     "name": "stdout",
     "output_type": "stream",
     "text": [
      "  Downloading https://files.pythonhosted.org/packages/16/e7/df58eb8868d183223692d2a62529a594f6414964a3ae93548467b146a24d/kiwisolver-1.1.0.tar.gz\n",
      "Collecting pytz (from matplotlib==2.2.2->-r /Users/ander/git/andre/mlflow-spark-summit-2019/sklearn/condaenv.k9fcah73.requirements.txt (line 5))\n",
      "  Using cached https://files.pythonhosted.org/packages/3d/73/fe30c2daaaa0713420d0382b16fbb761409f532c56bdcc514bf7b6262bb6/pytz-2019.1-py2.py3-none-any.whl\n",
      "Collecting chardet<3.1.0,>=3.0.2 (from requests>=2.17.3->mlflow==0.9.1->-r /Users/ander/git/andre/mlflow-spark-summit-2019/sklearn/condaenv.k9fcah73.requirements.txt (line 1))\n",
      "  Using cached https://files.pythonhosted.org/packages/bc/a9/01ffebfb562e4274b6487b4bb1ddec7ca55ec7510b22e4c51f14098443b8/chardet-3.0.4-py2.py3-none-any.whl\n",
      "Collecting idna<2.9,>=2.5 (from requests>=2.17.3->mlflow==0.9.1->-r /Users/ander/git/andre/mlflow-spark-summit-2019/sklearn/condaenv.k9fcah73.requirements.txt (line 1))\n",
      "  Using cached https://files.pythonhosted.org/packages/14/2c/cd551d81dbe15200be1cf41cd03869a46fe7226e7450af7a6545bfc474c9/idna-2.8-py2.py3-none-any.whl\n",
      "Collecting urllib3<1.25,>=1.21.1 (from requests>=2.17.3->mlflow==0.9.1->-r /Users/ander/git/andre/mlflow-spark-summit-2019/sklearn/condaenv.k9fcah73.requirements.txt (line 1))\n",
      "  Using cached https://files.pythonhosted.org/packages/df/1c/59cca3abf96f991f2ec3131a4ffe72ae3d9ea1f5894abe8a9c5e3c77cfee/urllib3-1.24.2-py2.py3-none-any.whl\n",
      "Requirement already satisfied: certifi>=2017.4.17 in /Users/ander/miniconda3/envs/mlflow-169b50d7002caef08e847b2615a41296bd46b052/lib/python3.6/site-packages (from requests>=2.17.3->mlflow==0.9.1->-r /Users/ander/git/andre/mlflow-spark-summit-2019/sklearn/condaenv.k9fcah73.requirements.txt (line 1)) (2019.3.9)\n",
      "Collecting gitdb2>=2.0.0 (from gitpython>=2.1.0->mlflow==0.9.1->-r /Users/ander/git/andre/mlflow-spark-summit-2019/sklearn/condaenv.k9fcah73.requirements.txt (line 1))\n",
      "  Using cached https://files.pythonhosted.org/packages/da/30/a407568aa8d8f25db817cf50121a958722f3fc5f87e3a6fba1f40c0633e3/gitdb2-2.0.5-py2.py3-none-any.whl\n",
      "Collecting Jinja2>=2.10 (from Flask->mlflow==0.9.1->-r /Users/ander/git/andre/mlflow-spark-summit-2019/sklearn/condaenv.k9fcah73.requirements.txt (line 1))\n",
      "  Using cached https://files.pythonhosted.org/packages/1d/e7/fd8b501e7a6dfe492a433deb7b9d833d39ca74916fa8bc63dd1a4947a671/Jinja2-2.10.1-py2.py3-none-any.whl\n",
      "Collecting itsdangerous>=0.24 (from Flask->mlflow==0.9.1->-r /Users/ander/git/andre/mlflow-spark-summit-2019/sklearn/condaenv.k9fcah73.requirements.txt (line 1))\n",
      "  Using cached https://files.pythonhosted.org/packages/76/ae/44b03b253d6fade317f32c24d100b3b35c2239807046a4c953c7b89fa49e/itsdangerous-1.1.0-py2.py3-none-any.whl\n",
      "Collecting Werkzeug>=0.14 (from Flask->mlflow==0.9.1->-r /Users/ander/git/andre/mlflow-spark-summit-2019/sklearn/condaenv.k9fcah73.requirements.txt (line 1))\n",
      "  Using cached https://files.pythonhosted.org/packages/18/79/84f02539cc181cdbf5ff5a41b9f52cae870b6f632767e43ba6ac70132e92/Werkzeug-0.15.2-py2.py3-none-any.whl\n",
      "Collecting configparser>=0.3.5 (from databricks-cli>=0.8.0->mlflow==0.9.1->-r /Users/ander/git/andre/mlflow-spark-summit-2019/sklearn/condaenv.k9fcah73.requirements.txt (line 1))\n",
      "  Using cached https://files.pythonhosted.org/packages/ba/05/6c96328e92e625fc31445d24d75a2c92ef9ba34fc5b037fe69693c362a0d/configparser-3.7.4-py2.py3-none-any.whl\n",
      "Collecting tabulate>=0.7.7 (from databricks-cli>=0.8.0->mlflow==0.9.1->-r /Users/ander/git/andre/mlflow-spark-summit-2019/sklearn/condaenv.k9fcah73.requirements.txt (line 1))\n",
      "Collecting botocore<1.13.0,>=1.12.135 (from boto3>=1.7.12->mlflow==0.9.1->-r /Users/ander/git/andre/mlflow-spark-summit-2019/sklearn/condaenv.k9fcah73.requirements.txt (line 1))\n",
      "\u001b[?25l  Downloading https://files.pythonhosted.org/packages/d3/36/08db4978d59d75750ef6da9835150b901c6fb96f6d5f30d8c50eb424ed4e/botocore-1.12.135-py2.py3-none-any.whl (5.4MB)\n",
      "\u001b[K     |████████████████████████████████| 5.4MB 3.6MB/s eta 0:00:01\n"
     ]
    }
   ],
   "source": [
    "! mlflow run . -P alpha=0.01 -P l1_ratio=0.75 -P run_origin=LocalRun \\\n",
    "  -P data_path=data/wine-quality-white.csv \\\n",
    "  --experiment-id=2"
   ]
  },
  {
   "cell_type": "code",
   "execution_count": null,
   "metadata": {},
   "outputs": [],
   "source": [
    "! mlflow run https://github.com/amesar/mlflow-fun.git#examples/scikit-learn/wine-quality \\\n",
    "  -P alpha=0.01 -P l1_ratio=0.75 -P run_origin=GitRun \\\n",
    "  -P data_path=data/wine-quality-white.csv \\\n",
    "  --experiment-id=2"
   ]
  },
  {
   "cell_type": "markdown",
   "metadata": {},
   "source": [
    "### Predict"
   ]
  },
  {
   "cell_type": "code",
   "execution_count": 5,
   "metadata": {},
   "outputs": [
    {
     "name": "stdout",
     "output_type": "stream",
     "text": [
      "MLflow Version: 0.9.1\n",
      "data_path: data/wine-quality-white.csv\n",
      "run_id: 4fc01818631840d9ae4d8ad9f86299fc\n",
      "model_uri: /Users/ander/work/mlflow/local_mlrun/mlruns/2/4fc01818631840d9ae4d8ad9f86299fc/artifacts/model\n",
      "model: ElasticNet(alpha=0.01, copy_X=True, fit_intercept=True, l1_ratio=1.0,\n",
      "      max_iter=1000, normalize=False, positive=False, precompute=False,\n",
      "      random_state=42, selection='cyclic', tol=0.0001, warm_start=False)\n",
      "predictions: [5.56281868 5.30043479 5.70350174 ... 5.44619008 6.55740254 6.2852277 ]\n"
     ]
    }
   ],
   "source": [
    "! python pyfunc_predict.py 4fc01818631840d9ae4d8ad9f86299fc data/wine-quality-white.csv"
   ]
  },
  {
   "cell_type": "code",
   "execution_count": 6,
   "metadata": {},
   "outputs": [
    {
     "name": "stdout",
     "output_type": "stream",
     "text": [
      "MLflow Version: 0.9.1\n",
      "data_path: data/wine-quality-white.csv\n",
      "run_id: 4fc01818631840d9ae4d8ad9f86299fc\n",
      "model: ElasticNet(alpha=0.01, copy_X=True, fit_intercept=True, l1_ratio=1.0,\n",
      "      max_iter=1000, normalize=False, positive=False, precompute=False,\n",
      "      random_state=42, selection='cyclic', tol=0.0001, warm_start=False)\n",
      "predictions: [5.56281868 5.30043479 5.70350174 ... 5.44619008 6.55740254 6.2852277 ]\n"
     ]
    }
   ],
   "source": [
    "! python scikit_predict.py 4fc01818631840d9ae4d8ad9f86299fc data/wine-quality-white.csv"
   ]
  },
  {
   "cell_type": "code",
   "execution_count": 9,
   "metadata": {},
   "outputs": [
    {
     "name": "stdout",
     "output_type": "stream",
     "text": [
      "19/04/25 14:06:00 WARN Utils: Your hostname, C02VD1RGHTDD resolves to a loopback address: 127.0.0.1; using 10.64.185.74 instead (on interface en0)\n",
      "19/04/25 14:06:00 WARN Utils: Set SPARK_LOCAL_IP if you need to bind to another address\n",
      "19/04/25 14:06:01 WARN NativeCodeLoader: Unable to load native-hadoop library for your platform... using builtin-java classes where applicable\n",
      "path: data/wine-quality-white.csv\n",
      "run_id= 4fc01818631840d9ae4d8ad9f86299fc\n",
      "MLflow Version: 0.9.1\n",
      "+-------------+----------------+-----------+--------------+---------+-------------------+--------------------+-------+----+---------+-------+\n",
      "|fixed acidity|volatile acidity|citric acid|residual sugar|chlorides|free sulfur dioxide|total sulfur dioxide|density|  pH|sulphates|alcohol|\n",
      "+-------------+----------------+-----------+--------------+---------+-------------------+--------------------+-------+----+---------+-------+\n",
      "|          7.0|            0.27|       0.36|          20.7|    0.045|               45.0|               170.0|  1.001| 3.0|     0.45|    8.8|\n",
      "|          6.3|             0.3|       0.34|           1.6|    0.049|               14.0|               132.0|  0.994| 3.3|     0.49|    9.5|\n",
      "|          8.1|            0.28|        0.4|           6.9|     0.05|               30.0|                97.0| 0.9951|3.26|     0.44|   10.1|\n",
      "|          7.2|            0.23|       0.32|           8.5|    0.058|               47.0|               186.0| 0.9956|3.19|      0.4|    9.9|\n",
      "|          7.2|            0.23|       0.32|           8.5|    0.058|               47.0|               186.0| 0.9956|3.19|      0.4|    9.9|\n",
      "|          8.1|            0.28|        0.4|           6.9|     0.05|               30.0|                97.0| 0.9951|3.26|     0.44|   10.1|\n",
      "|          6.2|            0.32|       0.16|           7.0|    0.045|               30.0|               136.0| 0.9949|3.18|     0.47|    9.6|\n",
      "|          7.0|            0.27|       0.36|          20.7|    0.045|               45.0|               170.0|  1.001| 3.0|     0.45|    8.8|\n",
      "|          6.3|             0.3|       0.34|           1.6|    0.049|               14.0|               132.0|  0.994| 3.3|     0.49|    9.5|\n",
      "|          8.1|            0.22|       0.43|           1.5|    0.044|               28.0|               129.0| 0.9938|3.22|     0.45|   11.0|\n",
      "+-------------+----------------+-----------+--------------+---------+-------------------+--------------------+-------+----+---------+-------+\n",
      "only showing top 10 rows\n",
      "\n",
      "/Users/ander/venvs/mlflow-venv/lib/python2.7/site-packages/pyarrow/__init__.py:152: UserWarning: pyarrow.open_stream is deprecated, please use pyarrow.ipc.open_stream\n",
      "  warnings.warn(\"pyarrow.open_stream is deprecated, please use \"\n",
      "+-------------+----------------+-----------+--------------+---------+-------------------+--------------------+-------+----+---------+-------+------------------+\n",
      "|fixed acidity|volatile acidity|citric acid|residual sugar|chlorides|free sulfur dioxide|total sulfur dioxide|density|  pH|sulphates|alcohol|        prediction|\n",
      "+-------------+----------------+-----------+--------------+---------+-------------------+--------------------+-------+----+---------+-------+------------------+\n",
      "|          7.0|            0.27|       0.36|          20.7|    0.045|               45.0|               170.0|  1.001| 3.0|     0.45|    8.8| 5.562818680029495|\n",
      "|          6.3|             0.3|       0.34|           1.6|    0.049|               14.0|               132.0|  0.994| 3.3|     0.49|    9.5|5.3004347872132715|\n",
      "|          8.1|            0.28|        0.4|           6.9|     0.05|               30.0|                97.0| 0.9951|3.26|     0.44|   10.1| 5.703501740309309|\n",
      "|          7.2|            0.23|       0.32|           8.5|    0.058|               47.0|               186.0| 0.9956|3.19|      0.4|    9.9| 5.742035433111079|\n",
      "|          7.2|            0.23|       0.32|           8.5|    0.058|               47.0|               186.0| 0.9956|3.19|      0.4|    9.9| 5.742035433111079|\n",
      "|          8.1|            0.28|        0.4|           6.9|     0.05|               30.0|                97.0| 0.9951|3.26|     0.44|   10.1| 5.703501740309309|\n",
      "|          6.2|            0.32|       0.16|           7.0|    0.045|               30.0|               136.0| 0.9949|3.18|     0.47|    9.6| 5.526523431037601|\n",
      "|          7.0|            0.27|       0.36|          20.7|    0.045|               45.0|               170.0|  1.001| 3.0|     0.45|    8.8| 5.562818680029495|\n",
      "|          6.3|             0.3|       0.34|           1.6|    0.049|               14.0|               132.0|  0.994| 3.3|     0.49|    9.5|5.3004347872132715|\n",
      "|          8.1|            0.22|       0.43|           1.5|    0.044|               28.0|               129.0| 0.9938|3.22|     0.45|   11.0| 5.912851142126504|\n",
      "+-------------+----------------+-----------+--------------+---------+-------------------+--------------------+-------+----+---------+-------+------------------+\n",
      "only showing top 10 rows\n",
      "\n",
      "/Users/ander/venvs/mlflow-venv/lib/python2.7/site-packages/pyarrow/__init__.py:152: UserWarning: pyarrow.open_stream is deprecated, please use pyarrow.ipc.open_stream\n",
      "  warnings.warn(\"pyarrow.open_stream is deprecated, please use \"\n",
      "+------------------+\n",
      "|        prediction|\n",
      "+------------------+\n",
      "| 5.562818680029495|\n",
      "|5.3004347872132715|\n",
      "| 5.703501740309309|\n",
      "| 5.742035433111079|\n",
      "| 5.742035433111079|\n",
      "| 5.703501740309309|\n",
      "| 5.526523431037601|\n",
      "| 5.562818680029495|\n",
      "|5.3004347872132715|\n",
      "| 5.912851142126504|\n",
      "+------------------+\n",
      "only showing top 10 rows\n",
      "\n",
      "/Users/ander/venvs/mlflow-venv/lib/python2.7/site-packages/pyarrow/__init__.py:152: UserWarning: pyarrow.open_stream is deprecated, please use pyarrow.ipc.open_stream\n",
      "  warnings.warn(\"pyarrow.open_stream is deprecated, please use \"\n",
      "predictions: 5.5628187\n"
     ]
    }
   ],
   "source": [
    "! spark-submit --master local[2] spark_udf_predict.py \\\n",
    "  4fc01818631840d9ae4d8ad9f86299fc data/wine-quality-white.csv"
   ]
  },
  {
   "cell_type": "code",
   "execution_count": null,
   "metadata": {},
   "outputs": [],
   "source": []
  }
 ],
 "metadata": {
  "kernelspec": {
   "display_name": "Python 3",
   "language": "python",
   "name": "python3"
  },
  "language_info": {
   "codemirror_mode": {
    "name": "ipython",
    "version": 3
   },
   "file_extension": ".py",
   "mimetype": "text/x-python",
   "name": "python",
   "nbconvert_exporter": "python",
   "pygments_lexer": "ipython3",
   "version": "3.7.0"
  }
 },
 "nbformat": 4,
 "nbformat_minor": 2
}
