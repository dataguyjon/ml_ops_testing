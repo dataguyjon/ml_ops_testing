{
 "cells": [
  {
   "cell_type": "code",
   "execution_count": 1,
   "metadata": {},
   "outputs": [],
   "source": [
    "from __future__ import print_function\n",
    "import mlflow\n",
    "from mlflow.entities import Param,Metric,RunTag"
   ]
  },
  {
   "cell_type": "code",
   "execution_count": 2,
   "metadata": {},
   "outputs": [
    {
     "name": "stdout",
     "output_type": "stream",
     "text": [
      "MLflow Version: 1.8.0\n",
      "Tracking URI: http://localhost:5000\n"
     ]
    }
   ],
   "source": [
    "print(\"MLflow Version:\", mlflow.version.VERSION)\n",
    "mlflow.set_tracking_uri(\"http://localhost:5000\")\n",
    "print(\"Tracking URI:\", mlflow.tracking.get_tracking_uri())"
   ]
  },
  {
   "cell_type": "code",
   "execution_count": 3,
   "metadata": {},
   "outputs": [
    {
     "name": "stdout",
     "output_type": "stream",
     "text": [
      "experiment_name: hello_world\n",
      "INFO: 'hello_world' does not exist. Creating a new experiment\n",
      "experiment_id: 1\n"
     ]
    }
   ],
   "source": [
    "experiment_name = \"hello_world\"\n",
    "print(\"experiment_name:\",experiment_name)\n",
    "mlflow.set_experiment(experiment_name)\n",
    "\n",
    "client = mlflow.tracking.MlflowClient()\n",
    "experiment_id = client.get_experiment_by_name(experiment_name).experiment_id\n",
    "print(\"experiment_id:\",experiment_id)\n",
    "\n",
    "import time\n",
    "now = int(time.time()+.5)"
   ]
  },
  {
   "cell_type": "code",
   "execution_count": 6,
   "metadata": {},
   "outputs": [],
   "source": [
    "def run(alpha, run_origin, log_artifact):\n",
    "    with mlflow.start_run(run_name=run_origin) as run:\n",
    "        print(\"runId:\",run.info.run_uuid)\n",
    "        print(\"artifact_uri:\",mlflow.get_artifact_uri())\n",
    "        print(\"alpha:\",alpha)\n",
    "        print(\"log_artifact:\",log_artifact)\n",
    "        print(\"run_origin:\",run_origin)\n",
    "        mlflow.log_param(\"alpha\", alpha)\n",
    "        mlflow.log_metric(\"rmse\", 0.789)\n",
    "        mlflow.set_tag(\"run_origin\", run_origin)\n",
    "        mlflow.set_tag(\"log_artifact\", log_artifact)\n",
    "        if log_artifact:\n",
    "            with open(\"info.txt\", \"w\") as f:\n",
    "                f.write(\"Hi artifact\")\n",
    "            mlflow.log_artifact(\"info.txt\")\n",
    "\n",
    "        params = [ Param(\"p1\",\"0.1\"), Param(\"p2\",\"0.2\") ]\n",
    "        metrics = [ Metric(\"m1\",0.1,now,1), Metric(\"m2\",0.2,now,1) ]\n",
    "        tags = [ RunTag(\"t1\",\"hi1\"), RunTag(\"t2\",\"hi2\") ]\n",
    "        client.log_batch(run.info.run_uuid, metrics, params, tags)"
   ]
  },
  {
   "cell_type": "code",
   "execution_count": 7,
   "metadata": {},
   "outputs": [
    {
     "name": "stdout",
     "output_type": "stream",
     "text": [
      "runId: 50dfb4a6c49b4b6a89216fd97c05f137\n",
      "artifact_uri: ./mlruns/1/50dfb4a6c49b4b6a89216fd97c05f137/artifacts\n",
      "alpha: 0.1\n",
      "log_artifact: True\n",
      "run_origin: jupyter\n"
     ]
    }
   ],
   "source": [
    "run(\"0.1\", \"jupyter\", True)"
   ]
  },
  {
   "cell_type": "code",
   "execution_count": null,
   "metadata": {},
   "outputs": [],
   "source": []
  }
 ],
 "metadata": {
  "kernelspec": {
   "display_name": "Python 3",
   "language": "python",
   "name": "python3"
  },
  "language_info": {
   "codemirror_mode": {
    "name": "ipython",
    "version": 3
   },
   "file_extension": ".py",
   "mimetype": "text/x-python",
   "name": "python",
   "nbconvert_exporter": "python",
   "pygments_lexer": "ipython3",
   "version": "3.7.0"
  }
 },
 "nbformat": 4,
 "nbformat_minor": 2
}
