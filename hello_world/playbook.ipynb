{
 "cells": [
  {
   "cell_type": "markdown",
   "metadata": {},
   "source": [
    "## hello_world playbook"
   ]
  },
  {
   "cell_type": "code",
   "execution_count": 1,
   "metadata": {},
   "outputs": [],
   "source": [
    "import os\n",
    "os.environ[\"MLFLOW_TRACKING_URI\"] = \"http://localhost:5000\""
   ]
  },
  {
   "cell_type": "code",
   "execution_count": 2,
   "metadata": {},
   "outputs": [
    {
     "name": "stdout",
     "output_type": "stream",
     "text": [
      "MLflow Version: 0.9.1\n",
      "Tracking URI: http://localhost:5000\n",
      "experiment_name: hello_world\n",
      "experiment_id: 1\n",
      "runId: f12c8d9e6d56450280943ec814cdb32e\n",
      "artifact_uri: /Users/ander/work/mlflow/local_mlrun/mlruns/1/f12c8d9e6d56450280943ec814cdb32e/artifacts\n",
      "alpha: 0.1\n",
      "log_artifact: False\n",
      "run_origin: \n"
     ]
    }
   ],
   "source": [
    "! python hello_world.py"
   ]
  },
  {
   "cell_type": "code",
   "execution_count": 3,
   "metadata": {},
   "outputs": [
    {
     "name": "stdout",
     "output_type": "stream",
     "text": [
      "MLflow Version: 0.9.1\n",
      "Tracking URI: http://localhost:5000\n",
      "experiment_name: hello_world\n",
      "experiment_id: 1\n",
      "runId: 34b98f61e9f94ada81d6b8be892c8f65\n",
      "artifact_uri: /Users/ander/work/mlflow/local_mlrun/mlruns/1/34b98f61e9f94ada81d6b8be892c8f65/artifacts\n",
      "alpha: 0.1\n",
      "log_artifact: True\n",
      "run_origin: \n"
     ]
    }
   ],
   "source": [
    "! python hello_world.py --log_artifact True"
   ]
  },
  {
   "cell_type": "code",
   "execution_count": 4,
   "metadata": {},
   "outputs": [
    {
     "name": "stdout",
     "output_type": "stream",
     "text": [
      "2019/04/25 13:42:50 INFO mlflow.projects: === Created directory /var/folders/_9/tbkxzw0116v2cp_zq4f1_1cm0000gp/T/tmpdihQqS for downloading remote URIs passed to arguments of type 'path' ===\n",
      "2019/04/25 13:42:50 INFO mlflow.projects: === Running command 'source activate mlflow-aacce47b0cb7984f4aead56265692d3969388f30 && python hello_world.py --alpha .01 --run_origin LocalRun --log_artifact True' in run with ID '91bdea4b8e7f47379688d98bfeb424a0' === \n",
      "MLflow Version: 0.9.1\n",
      "Tracking URI: http://localhost:5000\n",
      "experiment_name: hello_world\n",
      "experiment_id: 1\n",
      "runId: 91bdea4b8e7f47379688d98bfeb424a0\n",
      "artifact_uri: /Users/ander/work/mlflow/local_mlrun/mlruns/0/91bdea4b8e7f47379688d98bfeb424a0/artifacts\n",
      "alpha: 0.01\n",
      "log_artifact: True\n",
      "run_origin: LocalRun\n",
      "2019/04/25 13:42:51 INFO mlflow.projects: === Run (ID '91bdea4b8e7f47379688d98bfeb424a0') succeeded ===\n"
     ]
    }
   ],
   "source": [
    "! mlflow run . -Palpha=.01 -Prun_origin=LocalRun -Plog_artifact=True"
   ]
  }
 ],
 "metadata": {
  "kernelspec": {
   "display_name": "Python 2",
   "language": "python",
   "name": "python2"
  },
  "language_info": {
   "codemirror_mode": {
    "name": "ipython",
    "version": 2
   },
   "file_extension": ".py",
   "mimetype": "text/x-python",
   "name": "python",
   "nbconvert_exporter": "python",
   "pygments_lexer": "ipython2",
   "version": "2.7.14"
  }
 },
 "nbformat": 4,
 "nbformat_minor": 2
}
